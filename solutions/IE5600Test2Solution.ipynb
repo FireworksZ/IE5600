{
 "cells": [
  {
   "cell_type": "markdown",
   "metadata": {},
   "source": [
    "# P166"
   ]
  },
  {
   "cell_type": "code",
   "execution_count": null,
   "metadata": {},
   "outputs": [],
   "source": [
    "t = int(input())\n",
    "\n",
    "for _ in range(t):\n",
    "\tn = int(input())\n",
    "\tres = list(map(int,input().split()))\n",
    "\tres = list(zip(res,list(range(1,n+1))))\n",
    "\tres.sort()\n",
    "\tprint(*[i[1] for i in res])"
   ]
  },
  {
   "cell_type": "markdown",
   "metadata": {},
   "source": [
    "# P167"
   ]
  },
  {
   "cell_type": "code",
   "execution_count": null,
   "metadata": {},
   "outputs": [],
   "source": [
    "t = int(input())\n",
    "\n",
    "for _ in range(t):\n",
    "\tch = input()\n",
    "\tn = int(input())\n",
    "\tw = [input() for i in range(n)]\n",
    "\tres = [ww for ww in w if ch in ww]\n",
    "\tres.sort()\n",
    "\tif(len(res)==0):\n",
    "\t\tprint(\"!\")\n",
    "\telse:\n",
    "\t\tprint(\"\".join(res))"
   ]
  },
  {
   "cell_type": "markdown",
   "metadata": {},
   "source": [
    "# P168\n",
    "\n",
    "$(\\sum a_i)^3 = (\\sum a_i)(\\sum a_i)^2 \\\\\n",
    "= (\\sum a_i)(\\sum a_i^2) + (\\sum a_i)(\\sum_{i \\neq j} a_i a_j)\\\\\n",
    "= \\sum a_i^3 + \\sum_{i \\neq j} a_i a_j^2 + \\sum_{i\\neq j, j \\neq k, i \\neq k}a_i a_j a_k + 2\\sum_{i \\neq j} a_i a_j^2\\\\\n",
    "= \\sum a_i^3 + 3\\sum_{i \\neq j} a_i a_j^2 + \\sum_{i\\neq j, j \\neq k, i \\neq k}a_i a_j a_k\\\\\n",
    "= \\sum a_i^3 + 3(\\sum a_i)(\\sum a_i^2) - 3\\sum a_i^3 + \\sum_{i\\neq j, j \\neq k, i \\neq k}a_i a_j a_k\\\\\n",
    "= \\sum a_i^3 + 3(\\sum a_i)(\\sum a_i^2) - 3\\sum a_i^3 + 6 \\sum_{i<j<k}a_i a_j a_k\\\\\n",
    "$"
   ]
  },
  {
   "cell_type": "code",
   "execution_count": null,
   "metadata": {},
   "outputs": [],
   "source": [
    "test = int(input())\n",
    "for _ in range(test):\n",
    "\tn = int(input())\n",
    "\ta = [int(i) for i in input().split()]\n",
    "\t\n",
    "\tprefix_sum = [0 for i in range(n)]\n",
    "\tprefix_sum1 = [0 for i in range(n)]\n",
    "\ts = 0\n",
    "\tfor i in range(n):\n",
    "\t\tif i>0: prefix_sum[i]=prefix_sum[i-1]\n",
    "\t\tprefix_sum[i] += a[i]\n",
    "\tfor i in range(n):\n",
    "\t\tif i>0: prefix_sum1[i]=prefix_sum1[i-1]\n",
    "\t\tif i>0: prefix_sum1[i] += a[i]*prefix_sum[i-1]\n",
    "\tfor i in range(n):\n",
    "\t\tif i>0: s+=a[i]*prefix_sum1[i-1]\n",
    "\tprint(s)"
   ]
  },
  {
   "cell_type": "markdown",
   "metadata": {},
   "source": [
    "# P169"
   ]
  },
  {
   "cell_type": "code",
   "execution_count": null,
   "metadata": {},
   "outputs": [],
   "source": [
    "import numpy as np\n",
    "test = int(input())\n",
    "for _ in range(test):\n",
    "\tn = int(input())\n",
    "\tA = [[int(i) for i in input().split()] for j in range(n)]\n",
    "\tA = np.array(A)\n",
    "\tprint(np.trace(A))"
   ]
  }
 ],
 "metadata": {
  "kernelspec": {
   "display_name": "Python 3",
   "language": "python",
   "name": "python3"
  },
  "language_info": {
   "codemirror_mode": {
    "name": "ipython",
    "version": 3
   },
   "file_extension": ".py",
   "mimetype": "text/x-python",
   "name": "python",
   "nbconvert_exporter": "python",
   "pygments_lexer": "ipython3",
   "version": "3.7.6"
  }
 },
 "nbformat": 4,
 "nbformat_minor": 4
}
